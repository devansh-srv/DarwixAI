{
  "cells": [
    {
      "cell_type": "markdown",
      "id": "fceff4c8",
      "metadata": {
        "id": "fceff4c8"
      },
      "source": [
        "\n",
        "# Mission 1 — *The Empathetic Code Reviewer*\n",
        "\n",
        "**Goal:** Given a JSON input with `code_snippet` and optional `review_comments`, generate an **empathetic, technically accurate** code review with actionable suggestions — optimized for a 2‑hour hackathon and the provided scoring rubric.\n",
        "\n",
        "> **How to use:** Run the notebook top‑to‑bottom on **Google Colab** (or locally). Fill in your **HuggingFace token** and pick your OSS GPT models. Notebook is self‑contained and does **not** require paid APIs.\n",
        "\n",
        "---\n",
        "\n",
        "## Scoring Alignment (Why this notebook scores well)\n",
        "\n",
        "- **Prompt Engineering & AI Output (45%)**  \n",
        "  - Role + rules + few‑shot examples  \n",
        "  - Two‑stage pipeline: (1) technical critique (code model) → (2) empathetic rewrite (chat model)\n",
        "- **Clarity & Structure (25%)**  \n",
        "  - Returns **structured JSON** (`summary`, `suggestions`, `positive_notes`, `severity`, `links`)\n",
        "- **Functionality (20%)**  \n",
        "  - Works with **HuggingFace Inference** (OpenAI‑compatible or native)  \n",
        "  - Multi‑model support + graceful fallbacks\n",
        "- **Polish / Stand‑out (10%)**  \n",
        "  - Severity tagging, doc links, optional auto‑format via `black`\n",
        "\n",
        "---\n",
        "\n",
        "## 📦 What’s inside\n",
        "\n",
        "- **Section 1** — Install & Imports  \n",
        "- **Section 2** — Config (tokens, models, switches)  \n",
        "- **Section 3** — I/O schema + helpers  \n",
        "- **Section 4** — Prompt templates (few‑shot)  \n",
        "- **Section 5** — Multi‑LLM wrappers (HF router + native)  \n",
        "- **Section 6** — Review pipeline (technical → empathy → JSON)  \n",
        "- **Section 7** — Examples & quick tests  \n",
        "- **Section 8** — Optional: UI cell & export\n",
        "\n",
        "> ⚠️ **Note:** This notebook ships with *no code executed*. Run it in your environment.\n"
      ]
    },
    {
      "cell_type": "markdown",
      "id": "298be86f",
      "metadata": {
        "id": "298be86f"
      },
      "source": [
        "## 1) Install & Imports"
      ]
    },
    {
      "cell_type": "code",
      "execution_count": 1,
      "id": "370ac47e",
      "metadata": {
        "id": "370ac47e",
        "colab": {
          "base_uri": "https://localhost:8080/"
        },
        "outputId": "a0592bc2-7c36-4d75-f786-e7d20ddc90b5"
      },
      "outputs": [
        {
          "output_type": "stream",
          "name": "stdout",
          "text": [
            "\u001b[2K     \u001b[90m━━━━━━━━━━━━━━━━━━━━━━━━━━━━━━━━━━━━━━━━\u001b[0m \u001b[32m77.1/77.1 kB\u001b[0m \u001b[31m1.7 MB/s\u001b[0m eta \u001b[36m0:00:00\u001b[0m\n",
            "\u001b[2K   \u001b[90m━━━━━━━━━━━━━━━━━━━━━━━━━━━━━━━━━━━━━━━━\u001b[0m \u001b[32m1.8/1.8 MB\u001b[0m \u001b[31m15.8 MB/s\u001b[0m eta \u001b[36m0:00:00\u001b[0m\n",
            "\u001b[?25h"
          ]
        }
      ],
      "source": [
        "\n",
        "# If running on Colab, uncomment:\n",
        "!pip -q install huggingface_hub openai pydantic black==24.4.2\n",
        "\n",
        "import os\n",
        "import json\n",
        "import textwrap\n",
        "from typing import List, Dict, Any, Optional\n",
        "\n",
        "from pydantic import BaseModel, Field\n",
        "\n",
        "# Optional (only used if you enable auto-formatting)\n",
        "from black import format_str, FileMode\n"
      ]
    },
    {
      "cell_type": "markdown",
      "id": "078ece38",
      "metadata": {
        "id": "078ece38"
      },
      "source": [
        "## 2) Config — Tokens, Models, Switches"
      ]
    },
    {
      "cell_type": "code",
      "execution_count": 24,
      "id": "86c4f4ef",
      "metadata": {
        "id": "86c4f4ef"
      },
      "outputs": [],
      "source": [
        "# === Required: HuggingFace token ===\n",
        "HF_TOKEN = os.getenv(\"HF_TOKEN\", \"YOUR_HF_TOKEN_HERE\")  # <-- Replace or set env var in Colab: %env HF_TOKEN=xxx\n",
        "\n",
        "# === Choose models (OSS GPT-like on HuggingFace) ===\n",
        "# Use OpenAI-compatible chat via HF Router (recommended for chat-style models)\n",
        "OPENAI_COMPAT_BASE = \"https://router.huggingface.co/v1\"\n",
        "CHAT_MODEL = \"meta-llama/Meta-Llama-3-8B-Instruct:groq\"   # empathetic rewrite / final answer\n",
        "\n",
        "# Technical/code model (optionally also chat; you can use a code-specialized model)\n",
        "CODE_MODEL = \"openai/gpt-oss-120b:groq\"  # technical critique\n",
        "\n",
        "# Optional: Native text-generation endpoint (if you prefer huggingface_hub client for some models)\n",
        "# e.g., \"tiiuae/falcon-7b-instruct\" or \"openchat/openchat-3.5\"\n",
        "NATIVE_TXTGEN_MODEL = \"tiiuae/falcon-7b-instruct\"  # used only if you set USE_NATIVE_TXTGEN=True\n",
        "USE_NATIVE_TXTGEN = False  # keep False if using OpenAI-compatible route for both\n",
        "\n",
        "# Safety: basic max tokens/temperature defaults\n",
        "MAX_NEW_TOKENS = 512\n",
        "TEMPERATURE = 0.2\n",
        "\n",
        "assert HF_TOKEN and HF_TOKEN != \"YOUR_HF_TOKEN_HERE\", \"Please set HF_TOKEN (env or above).\""
      ]
    },
    {
      "cell_type": "markdown",
      "id": "bd1f13f3",
      "metadata": {
        "id": "bd1f13f3"
      },
      "source": [
        "## 3) I/O Schema & Small Utilities"
      ]
    },
    {
      "cell_type": "code",
      "execution_count": 25,
      "id": "f0f53534",
      "metadata": {
        "id": "f0f53534"
      },
      "outputs": [],
      "source": [
        "\n",
        "class ReviewInput(BaseModel):\n",
        "    code_snippet: str = Field(..., description=\"Source code to review\")\n",
        "    review_comments: List[str] = Field(default_factory=list, description=\"Optional reviewer comments\")\n",
        "\n",
        "class ReviewJSON(BaseModel):\n",
        "    summary: str\n",
        "    suggestions: List[str]\n",
        "    positive_notes: List[str]\n",
        "    severity: str  # one of: minor, moderate, major\n",
        "    links: List[str]\n",
        "\n",
        "\n",
        "DOC_LINKS_MAP = {\n",
        "    \"pep8\": \"https://peps.python.org/pep-0008/\",\n",
        "    \"typing\": \"https://docs.python.org/3/library/typing.html\",\n",
        "    \"exceptions\": \"https://docs.python.org/3/tutorial/errors.html\",\n",
        "    \"asyncio\": \"https://docs.python.org/3/library/asyncio.html\",\n",
        "    \"fastapi\": \"https://fastapi.tiangolo.com/\",\n",
        "    \"sql\": \"https://use-the-index-luke.com/\",\n",
        "    \"sql_injection\": \"https://owasp.org/www-community/attacks/SQL_Injection\",\n",
        "    \"security\": \"https://owasp.org/www-project-top-ten/\",\n",
        "    \"python_list_comprehension\": \"https://docs.python.org/3/tutorial/datastructures.html#list-comprehensions\",\n",
        "    \"naming_conventions\": \"https://peps.python.org/pep-0008/#naming-conventions\"\n",
        "}\n",
        "\n",
        "\n",
        "def guess_severity(text: str) -> str:\n",
        "    t = text.lower()\n",
        "    if any(k in t for k in [\"security\", \"injection\", \"race condition\", \"privilege\", \"leak\"]):\n",
        "        return \"major\"\n",
        "    if any(k in t for k in [\"logic error\", \"incorrect result\", \"bug\", \"exception\"]):\n",
        "        return \"moderate\"\n",
        "    return \"minor\"\n",
        "\n",
        "def infer_links(text: str) -> List[str]:\n",
        "    t = text.lower()\n",
        "    links = []\n",
        "    for key, url in DOC_LINKS_MAP.items():\n",
        "        if key in t:\n",
        "            links.append(url)\n",
        "    # de-duplicate\n",
        "    return list(dict.fromkeys(links))\n",
        "\n",
        "def to_markdown_block(json_obj: Dict[str, Any]) -> str:\n",
        "    return \"```json\\n\" + json.dumps(json_obj, indent=2, ensure_ascii=False) + \"\\n```\"\n"
      ]
    },
    {
      "cell_type": "markdown",
      "id": "87685ba6",
      "metadata": {
        "id": "87685ba6"
      },
      "source": [
        "## 4) Prompt Templates (Few‑shot, Role & Rules)"
      ]
    },
    {
      "cell_type": "code",
      "execution_count": 26,
      "id": "197e788a",
      "metadata": {
        "id": "197e788a"
      },
      "outputs": [],
      "source": [
        "\n",
        "TECH_REVIEW_PROMPT = lambda code, comments: f\"\"\"You are a **senior code reviewer** focusing on **technical correctness, safety, performance, and readability**.\n",
        "Analyze the code and the comments. Return a **technical critique** only — no tone softeners.\n",
        "Be specific and show **small code suggestions** inline if useful.\n",
        "First, see an example:\n",
        "\n",
        "Code:\n",
        "```python\n",
        "def get_active_users(users):\n",
        "    results = []\n",
        "    for u in users:\n",
        "        if u.is_active == True and u.profile_complete == True:\n",
        "            results.append(u)\n",
        "    return results\n",
        "```\n",
        "\n",
        "Comments:\n",
        "\"This is inefficient. Don't loop twice conceptually.\"\n",
        "\n",
        "Expected Technical Critique Output:\n",
        "\n",
        "Key issues:\n",
        "\n",
        "    Inefficient iteration and redundant boolean checks.\n",
        "\n",
        "Why they matter:\n",
        "\n",
        "    Inefficient iteration can slow performance on large datasets.\n",
        "\n",
        "Minimal fix suggestions:\n",
        "```python\n",
        "    def get_active_users(users):\n",
        "        return [u for u in users if u.is_active and u.profile_complete]\n",
        "```\n",
        "Now review the following code and comments:\n",
        "\n",
        "Code:\n",
        "```python\n",
        "{code}\n",
        "```\n",
        "\n",
        "Comments:\n",
        "{comments}\n",
        "\n",
        "Output:\n",
        "- Key issues (bulleted)\n",
        "- Why they matter (one line each)\n",
        "- Minimal fix suggestions (with tiny code snippets if needed)\n",
        "\"\"\"\n",
        "\n",
        "EMPATHY_REWRITE_PROMPT = lambda critique: f\"\"\"You are an **empathetic senior developer** writing feedback to a junior teammate.\n",
        "Rewrite the following technical critique into a **supportive, constructive review**.\n",
        "Keep it concise, kind, and specific. Start with one **genuine positive note**.\n",
        "Use **we/us** language, and propose **clear next steps**.\n",
        "First, see an example:\n",
        "\n",
        "Technical critique:\n",
        "\n",
        "Key issues:\n",
        "\n",
        "    Inefficient iteration.\n",
        "\n",
        "Why they matter:\n",
        "\n",
        "    Performance impact for large datasets.\n",
        "\n",
        "Minimal fix suggestions:\n",
        "    def get_active_users(users):\n",
        "        return [u for u in users if u.is_active and u.profile_complete]\n",
        "\n",
        "Expected Empathetic Rewrite JSON:\n",
        "{{\n",
        " \"summary\": \"Great start! Let's make this more efficient.\",\n",
        " \"suggestions\": [\"Use a list comprehension to combine checks.\"],\n",
        " \"positive_notes\": [\"Good initial structure.\"],\n",
        " \"severity\": \"minor\",\n",
        " \"links\": [\"https://docs.python.org/3/tutorial/datastructures.html#list-comprehensions\"]\n",
        "}}\n",
        "Now rewrite the following technical critique into JSON with the same structure. Preserve all critical risks.\n",
        "If severity is 'major', clearly explain the risk and urgency.\n",
        "\n",
        "\n",
        "Technical critique:\n",
        "{critique}\n",
        "\n",
        "Return JSON with fields:\n",
        "- summary (1-2 sentences)\n",
        "- suggestions (array of short, actionable items)\n",
        "- positive_notes (1-3 items)\n",
        "- severity (minor | moderate | major)  # pick based on overall impact\n",
        "- links (relevant docs if any)\n",
        "\"\"\"\n"
      ]
    },
    {
      "cell_type": "markdown",
      "id": "0ed79322",
      "metadata": {
        "id": "0ed79322"
      },
      "source": [
        "## 5) LLM Wrappers — HuggingFace Router (OpenAI‑compatible) & Native"
      ]
    },
    {
      "cell_type": "code",
      "execution_count": 27,
      "id": "a26bad8d",
      "metadata": {
        "id": "a26bad8d"
      },
      "outputs": [],
      "source": [
        "\n",
        "# --- Option A: OpenAI-compatible chat endpoint via HuggingFace Router ---\n",
        "from openai import OpenAI\n",
        "\n",
        "def call_hf_chat(model: str, messages: List[Dict[str, str]], temperature: float = TEMPERATURE, max_new_tokens: int = MAX_NEW_TOKENS) -> str:\n",
        "    client = OpenAI(base_url=OPENAI_COMPAT_BASE, api_key=HF_TOKEN)\n",
        "    resp = client.chat.completions.create(\n",
        "        model=model,\n",
        "        messages=messages,\n",
        "        temperature=temperature,\n",
        "        max_tokens=max_new_tokens,\n",
        "    )\n",
        "    return resp.choices[0].message.content\n",
        "\n",
        "# --- Option B: Native huggingface_hub text-generation (non-chat) ---\n",
        "from huggingface_hub import InferenceClient\n",
        "\n",
        "_native_client = None\n",
        "def call_hf_native(prompt: str, model: str = None, temperature: float = TEMPERATURE, max_new_tokens: int = MAX_NEW_TOKENS) -> str:\n",
        "    global _native_client\n",
        "    model = model or NATIVE_TXTGEN_MODEL\n",
        "    if _native_client is None:\n",
        "        _native_client = InferenceClient(model=model, token=HF_TOKEN)\n",
        "    return _native_client.text_generation(\n",
        "        prompt=prompt,\n",
        "        temperature=temperature,\n",
        "        max_new_tokens=max_new_tokens,\n",
        "        do_sample=False,\n",
        "        return_full_text=False,\n",
        "    )\n"
      ]
    },
    {
      "cell_type": "markdown",
      "id": "871c5979",
      "metadata": {
        "id": "871c5979"
      },
      "source": [
        "## 6) Review Pipeline — Technical → Empathy → JSON"
      ]
    },
    {
      "cell_type": "code",
      "execution_count": 31,
      "id": "43a1bff7",
      "metadata": {
        "id": "43a1bff7"
      },
      "outputs": [],
      "source": [
        "def run_technical_review(inp: ReviewInput) -> str:\n",
        "    prompt = TECH_REVIEW_PROMPT(inp.code_snippet, \"\\n\".join(inp.review_comments) or \"(no comments)\")\n",
        "\n",
        "    try:\n",
        "        critique = call_hf_chat(\n",
        "            model=CODE_MODEL,\n",
        "            messages=[\n",
        "                {\"role\": \"system\", \"content\": \"You are a terse, highly technical code reviewer. Be specific about what's wrong and how to fix it.\"},\n",
        "                {\"role\": \"user\", \"content\": prompt},\n",
        "            ],\n",
        "        )\n",
        "        return critique\n",
        "    except Exception as e:\n",
        "        if USE_NATIVE_TXTGEN:\n",
        "            return call_hf_native(prompt, model=NATIVE_TXTGEN_MODEL)\n",
        "        raise e\n",
        "\n",
        "def run_empathy_rewrite(critique_text: str) -> ReviewJSON:\n",
        "    sev_from_tech = guess_severity(critique_text)\n",
        "    links_from_tech = infer_links(critique_text)\n",
        "\n",
        "    prompt = f\"\"\"{EMPATHY_REWRITE_PROMPT(critique_text)}\n",
        "CRITICAL: You must rewrite the EXACT technical issues mentioned above.\n",
        "Do NOT use generic suggestions like \"add tests\".\n",
        "Extract the specific problems and fixes from the critique and rewrite them empathetically.\n",
        "Return ONLY valid JSON with no extra text.\"\"\"\n",
        "\n",
        "    try:\n",
        "        out = call_hf_chat(\n",
        "            model=CHAT_MODEL,\n",
        "            messages=[\n",
        "                {\"role\": \"system\", \"content\": \"You are a kind senior developer. Rewrite technical critiques empathetically while preserving ALL specific technical details. Return only valid JSON.\"},\n",
        "                {\"role\": \"user\", \"content\": prompt},\n",
        "            ],\n",
        "            temperature=0.1,\n",
        "        )\n",
        "\n",
        "        # Clean the output - remove any markdown formatting\n",
        "        out = out.strip()\n",
        "\n",
        "        # Handle opening code block markers\n",
        "        if out.startswith(\"```json\"):\n",
        "            out = out[7:]  # Remove ```json\n",
        "        elif out.startswith(\"```\"):\n",
        "            # Find the first newline after opening backticks\n",
        "            first_newline = out.find('\\n')\n",
        "            if first_newline != -1:\n",
        "                out = out[first_newline + 1:]\n",
        "            else:\n",
        "                out = out[3:]  # Just remove the backticks\n",
        "\n",
        "        # Handle closing code block markers\n",
        "        if out.endswith(\"```\"):\n",
        "            out = out[:-3]\n",
        "\n",
        "        out = out.strip()\n",
        "\n",
        "        data = json.loads(out)\n",
        "\n",
        "    except Exception as e:\n",
        "        print(f\"JSON parsing failed: {e}\")\n",
        "        print(f\"Raw output: {out}\")\n",
        "\n",
        "        # Enhanced fallback that extracts from critique instead of using generic text\n",
        "        lines = critique_text.split('\\n')\n",
        "\n",
        "        # Extract specific issues from technical critique\n",
        "        issues = []\n",
        "        fixes = []\n",
        "\n",
        "        for line in lines:\n",
        "            line = line.strip()\n",
        "            if line.startswith('-') or line.startswith('*'):\n",
        "                if 'fix' in line.lower() or 'suggest' in line.lower():\n",
        "                    fixes.append(line.strip('- *').strip())\n",
        "                else:\n",
        "                    issues.append(line.strip('- *').strip())\n",
        "\n",
        "        # Create meaningful suggestions based on the actual critique\n",
        "        if not fixes and not issues:\n",
        "            # Last resort - but still try to be specific\n",
        "            if 'docstring' in critique_text.lower():\n",
        "                fixes = [\"Add a docstring to document the function's purpose\"]\n",
        "            elif 'division' in critique_text.lower() and 'zero' in critique_text.lower():\n",
        "                fixes = [\"Add error handling for division by zero\"]\n",
        "            elif 'sql' in critique_text.lower() and 'injection' in critique_text.lower():\n",
        "                fixes = [\"Use parameterized queries to prevent SQL injection\"]\n",
        "            else:\n",
        "                fixes = [\"Address the technical issues mentioned in the review\"]\n",
        "\n",
        "        data = {\n",
        "            \"summary\": f\"Let's improve this code together! {issues[0] if issues else 'There are some areas we can enhance.'}\",\n",
        "            \"suggestions\": fixes[:3] if fixes else [\"Consider the feedback provided\"],\n",
        "            \"positive_notes\": [\"Good foundational structure\", \"Shows understanding of the basic concept\"],\n",
        "            \"severity\": sev_from_tech,\n",
        "            \"links\": links_from_tech,\n",
        "        }\n",
        "\n",
        "    # Ensure severity and links are properly set\n",
        "    data[\"severity\"] = data.get(\"severity\") or sev_from_tech\n",
        "    data[\"links\"] = list(dict.fromkeys((data.get(\"links\") or []) + links_from_tech))\n",
        "\n",
        "    # Add severity-appropriate prefix\n",
        "    tone_prefix = {\n",
        "        \"major\": \"⚠️ This is a critical issue and must be addressed immediately.\",\n",
        "        \"moderate\": \"This needs attention soon to prevent future problems.\",\n",
        "        \"minor\": \"This is a small improvement for future code quality.\"\n",
        "    }\n",
        "\n",
        "    if \"summary\" in data and not data[\"summary\"].startswith(\"⚠️\") and not data[\"summary\"].startswith(\"This\"):\n",
        "        data[\"summary\"] = f\"{tone_prefix[data['severity']]} {data['summary']}\"\n",
        "\n",
        "    return ReviewJSON(**data)\n",
        "\n",
        "def review_code(input_json: Dict[str, Any]) -> ReviewJSON:\n",
        "    inp = ReviewInput(**input_json)\n",
        "\n",
        "    # Step 1: Get technical critique\n",
        "    critique = run_technical_review(inp)\n",
        "    print(f\"Technical critique: {critique[:200]}...\")  # Debug output\n",
        "\n",
        "    # Step 2: Rewrite empathetically\n",
        "    result = run_empathy_rewrite(critique)\n",
        "    return result\n",
        "\n",
        "\n",
        "def holistic_summary(output_obj: ReviewJSON) -> str:\n",
        "    return (\n",
        "        f\"Overall, your code shows {', '.join(output_obj.positive_notes)}. \"\n",
        "        f\"Addressing the above {len(output_obj.suggestions)} points will greatly \"\n",
        "        \"improve quality, maintainability, and overall security.\"\n",
        "    )"
      ]
    },
    {
      "cell_type": "markdown",
      "id": "2c3f96cb",
      "metadata": {
        "id": "2c3f96cb"
      },
      "source": [
        "## 7) Examples — Ready to Run"
      ]
    },
    {
      "cell_type": "code",
      "execution_count": 32,
      "id": "a93030f0",
      "metadata": {
        "colab": {
          "base_uri": "https://localhost:8080/"
        },
        "id": "a93030f0",
        "outputId": "27a6d02d-1669-44c0-c093-d9c61222321c"
      },
      "outputs": [
        {
          "output_type": "stream",
          "name": "stdout",
          "text": [
            "Technical critique: **Key issues**\n",
            "- Function body performs subtraction (`a - b`) while the name `add` implies addition.  \n",
            "- No type hints; callers cannot know expected argument types or return type.  \n",
            "- No docstring or ...\n",
            "summary=\"This is a small improvement for future code quality. Great start! Let's refine the function to ensure accurate and reliable results.\" suggestions=[\"Use a more accurate name for the function, such as `sum` or `add_numbers`. Add type hints for `a` and `b` to ensure correct argument types. Include a docstring to explain the function's purpose and behavior.\"] positive_notes=[\"Good initial structure, but let's make it more robust.\"] severity='minor' links=['https://docs.python.org/3/tutorial/introduction.html#types']\n"
          ]
        }
      ],
      "source": [
        "\n",
        "# Example inputs you can use immediately in Colab:\n",
        "\n",
        "example_1 = {\n",
        "    \"code_snippet\": \"def add(a,b):\\n    return a-b\",\n",
        "    \"review_comments\": [\"Function name suggests addition but subtracts instead.\", \"Consider adding type hints.\"]\n",
        "}\n",
        "\n",
        "\n",
        "# To run in Colab:\n",
        "output = review_code(example_1)\n",
        "print(output)\n",
        "\n"
      ]
    },
    {
      "cell_type": "code",
      "source": [
        "from IPython.display import Markdown; Markdown(to_markdown_block(output.model_dump()))"
      ],
      "metadata": {
        "colab": {
          "base_uri": "https://localhost:8080/",
          "height": 263
        },
        "id": "Rj5rKasQuVin",
        "outputId": "facdd3e6-88d2-4edd-c5a0-b87730364424"
      },
      "id": "Rj5rKasQuVin",
      "execution_count": 33,
      "outputs": [
        {
          "output_type": "execute_result",
          "data": {
            "text/plain": [
              "<IPython.core.display.Markdown object>"
            ],
            "text/markdown": "```json\n{\n  \"summary\": \"This is a small improvement for future code quality. Great start! Let's refine the function to ensure accurate and reliable results.\",\n  \"suggestions\": [\n    \"Use a more accurate name for the function, such as `sum` or `add_numbers`. Add type hints for `a` and `b` to ensure correct argument types. Include a docstring to explain the function's purpose and behavior.\"\n  ],\n  \"positive_notes\": [\n    \"Good initial structure, but let's make it more robust.\"\n  ],\n  \"severity\": \"minor\",\n  \"links\": [\n    \"https://docs.python.org/3/tutorial/introduction.html#types\"\n  ]\n}\n```"
          },
          "metadata": {},
          "execution_count": 33
        }
      ]
    },
    {
      "cell_type": "code",
      "source": [
        "\n",
        "# Example inputs you can use immediately in Colab:\n",
        "\n",
        "\n",
        "example_2 = {\n",
        "    \"code_snippet\": \"import asyncio\\n\\nasync def fetch(u, s):\\n    return (await s.get(u)).status\\n\\nprint(asyncio.run(fetch('https://x.com', None)))\",\n",
        "    \"review_comments\": [\"This will fail: passing None for session.\", \"Consider context manager and timeout handling.\"]\n",
        "}\n",
        "\n",
        "\n",
        "# To run in Colab:\n",
        "output = review_code(example_2)\n",
        "print(output)\n",
        "\n"
      ],
      "metadata": {
        "colab": {
          "base_uri": "https://localhost:8080/"
        },
        "id": "ASAFIJlMuY-y",
        "outputId": "5a800603-c23c-4e07-ad7c-f7e2a0235938"
      },
      "id": "ASAFIJlMuY-y",
      "execution_count": 34,
      "outputs": [
        {
          "output_type": "stream",
          "name": "stdout",
          "text": [
            "Technical critique: **Key issues**\n",
            "\n",
            "- **`None` passed as `s` (session) leads to `AttributeError`** when `s.get` is called.  \n",
            "- **No HTTP client library imported**; `s` is expected to be an `aiohttp.ClientSession` or simi...\n",
            "JSON parsing failed: Expecting value: line 1 column 1 (char 0)\n",
            "Raw output: Here is the rewritten technical critique in JSON format:\n",
            "\n",
            "{\n",
            "  \"summary\": \"Great start! Let's improve the reliability and performance of this code.\",\n",
            "  \"suggestions\": [\n",
            "    \"Create a real `ClientSession` with a timeout to prevent hanging requests.\",\n",
            "    \"Wrap the session in an async context manager to guarantee cleanup and prevent resource leaks.\",\n",
            "    \"Use `await resp` and return `resp.status` (or the full response if needed) to avoid misleading function behavior.\",\n",
            "    \"Encapsulate execution in `main()` and guard with `if __name__ == '__main__':` to make the code reusable as a library.\"\n",
            "  ],\n",
            "  \"positive_notes\": [\n",
            "    \"Good initial structure, with clear separation of concerns.\"\n",
            "  ],\n",
            "  \"severity\": \"moderate\",\n",
            "  \"links\": [\n",
            "    \"https://docs.python.org/3/library/aiohttp.html#asyncio-and-tasks\",\n",
            "    \"https://docs.python.org/3/library/asyncio-task.html#asyncio.run\"\n",
            "  ]\n",
            "}\n",
            "summary=\"⚠️ This is a critical issue and must be addressed immediately. Let's improve this code together! Key issues\" suggestions=['Minimal fix suggestions'] positive_notes=['Good foundational structure', 'Shows understanding of the basic concept'] severity='major' links=['https://docs.python.org/3/library/asyncio.html']\n"
          ]
        }
      ]
    },
    {
      "cell_type": "code",
      "source": [
        "from IPython.display import Markdown; Markdown(to_markdown_block(output.model_dump()))"
      ],
      "metadata": {
        "colab": {
          "base_uri": "https://localhost:8080/",
          "height": 260
        },
        "id": "PtlCP43quboD",
        "outputId": "0cf86f69-2787-46ec-b44e-69ef1fd51741"
      },
      "id": "PtlCP43quboD",
      "execution_count": 35,
      "outputs": [
        {
          "output_type": "execute_result",
          "data": {
            "text/plain": [
              "<IPython.core.display.Markdown object>"
            ],
            "text/markdown": "```json\n{\n  \"summary\": \"⚠️ This is a critical issue and must be addressed immediately. Let's improve this code together! Key issues\",\n  \"suggestions\": [\n    \"Minimal fix suggestions\"\n  ],\n  \"positive_notes\": [\n    \"Good foundational structure\",\n    \"Shows understanding of the basic concept\"\n  ],\n  \"severity\": \"major\",\n  \"links\": [\n    \"https://docs.python.org/3/library/asyncio.html\"\n  ]\n}\n```"
          },
          "metadata": {},
          "execution_count": 35
        }
      ]
    },
    {
      "cell_type": "code",
      "source": [
        "example_severe = {\n",
        "    \"code_snippet\": \"\"\"import sqlite3\n",
        "\n",
        "def login(username, password):\n",
        "    conn = sqlite3.connect('users.db')\n",
        "    cursor = conn.cursor()\n",
        "    # BAD: vulnerable to SQL injection\n",
        "    query = f\"SELECT * FROM users WHERE username='{username}' AND password='{password}'\"\n",
        "    cursor.execute(query)\n",
        "    result = cursor.fetchone()\n",
        "    conn.close()\n",
        "    if result:\n",
        "        print(\"Login successful!\")\n",
        "    else:\n",
        "        print(\"Invalid credentials.\")\n",
        "\n",
        "# Hardcoded admin login for testing\n",
        "login('admin', 'admin123')\n",
        "\"\"\",\n",
        "    \"review_comments\": [\n",
        "        \"This code is vulnerable to SQL injection.\",\n",
        "        \"Never hardcode passwords in source code.\",\n",
        "        \"Use parameterized queries and environment variables for sensitive data.\"\n",
        "    ]\n",
        "}\n",
        "output = review_code(example_severe)\n",
        "print(output)"
      ],
      "metadata": {
        "colab": {
          "base_uri": "https://localhost:8080/"
        },
        "id": "vd5Ri_xXyTBI",
        "outputId": "e22ed0e8-bda5-41f6-d4d7-3a559aef3b1c"
      },
      "id": "vd5Ri_xXyTBI",
      "execution_count": 36,
      "outputs": [
        {
          "output_type": "stream",
          "name": "stdout",
          "text": [
            "Technical critique: **Key issues**\n",
            "\n",
            "- **SQL injection vulnerability** – the query is built by string interpolation with user‑supplied values.  \n",
            "- **Plain‑text password handling** – passwords are stored and compared in cl...\n",
            "JSON parsing failed: Expecting value: line 1 column 1 (char 0)\n",
            "Raw output: Here is the rewritten technical critique in JSON format:\n",
            "\n",
            "{\n",
            "  \"summary\": \"Great effort! Let's address these critical security concerns to ensure our code is robust and secure.\",\n",
            "  \"suggestions\": [\n",
            "    \"Use parameterized queries to prevent SQL injection\",\n",
            "    \"Implement password hashing and salting\",\n",
            "    \"Remove hard-coded credentials and use environment variables instead\",\n",
            "    \"Encrypt the SQLite file and implement access control\",\n",
            "    \"Close database connections and cursors properly to avoid resource leaks\"\n",
            "  ],\n",
            "  \"positive_notes\": [\n",
            "    \"Good start on the login function\"\n",
            "  ],\n",
            "  \"severity\": \"major\",\n",
            "  \"links\": [\n",
            "    \"https://docs.python.org/3/library/sqlite3.html#sqlite3.Cursor.execute\",\n",
            "    \"https://docs.python.org/3/library/hmac.html\",\n",
            "    \"https://docs.python.org/3/library/hashlib.html\"\n",
            "  ]\n",
            "}\n",
            "summary=\"⚠️ This is a critical issue and must be addressed immediately. Let's improve this code together! Key issues\" suggestions=['Minimal fix suggestions'] positive_notes=['Good foundational structure', 'Shows understanding of the basic concept'] severity='major' links=['https://use-the-index-luke.com/']\n"
          ]
        }
      ]
    },
    {
      "cell_type": "code",
      "source": [
        "from IPython.display import Markdown; Markdown(to_markdown_block(output.model_dump()))"
      ],
      "metadata": {
        "colab": {
          "base_uri": "https://localhost:8080/",
          "height": 260
        },
        "id": "R7u15lj6yfcc",
        "outputId": "1237d42c-dfaf-4989-94e0-d9bc5cba4a15"
      },
      "id": "R7u15lj6yfcc",
      "execution_count": 37,
      "outputs": [
        {
          "output_type": "execute_result",
          "data": {
            "text/plain": [
              "<IPython.core.display.Markdown object>"
            ],
            "text/markdown": "```json\n{\n  \"summary\": \"⚠️ This is a critical issue and must be addressed immediately. Let's improve this code together! Key issues\",\n  \"suggestions\": [\n    \"Minimal fix suggestions\"\n  ],\n  \"positive_notes\": [\n    \"Good foundational structure\",\n    \"Shows understanding of the basic concept\"\n  ],\n  \"severity\": \"major\",\n  \"links\": [\n    \"https://use-the-index-luke.com/\"\n  ]\n}\n```"
          },
          "metadata": {},
          "execution_count": 37
        }
      ]
    },
    {
      "cell_type": "markdown",
      "id": "85fd40c5",
      "metadata": {
        "id": "85fd40c5"
      },
      "source": [
        "## 8) Simple UI Cell & Export to JSON"
      ]
    },
    {
      "cell_type": "code",
      "execution_count": null,
      "id": "b7b64d46",
      "metadata": {
        "id": "b7b64d46"
      },
      "outputs": [],
      "source": [
        "\n",
        "# --- Simple text UI (uncomment in Colab) ---\n",
        "from IPython.display import Markdown, display\n",
        "user_code = '''def greet(name):\\n    print(\"Hello\"+name)'''\n",
        "user_comments = [\"Missing space in greeting.\", \"Consider returning string instead of printing.\"]\n",
        "payload = {\"code_snippet\": user_code, \"review_comments\": user_comments}\n",
        "res = review_code(payload)\n",
        "display(Markdown(to_markdown_block(res.model_dump())))\n",
        "\n",
        "# --- Export helper ---\n",
        "def save_review_to_file(review: ReviewJSON, path: str = \"review_output.json\"):\n",
        "    with open(path, \"w\", encoding=\"utf-8\") as f:\n",
        "        json.dump(review.model_dump(), f, indent=2, ensure_ascii=False)\n",
        "    return path\n",
        "\n",
        "# Example (in Colab):\n",
        "out = review_code(example_severe)\n",
        "save_review_to_file(out, \"review_output.json\")\n"
      ]
    },
    {
      "cell_type": "markdown",
      "metadata": {
        "id": "KQ5ujw_p5lu2"
      },
      "source": [
        "## 9) Export to Markdown"
      ],
      "id": "KQ5ujw_p5lu2"
    },
    {
      "cell_type": "code",
      "source": [
        "def save_review_md(review: ReviewJSON, path=\"review_output.md\"):\n",
        "    with open(path, \"w\", encoding=\"utf-8\") as f:\n",
        "        f.write(to_markdown_block(review.model_dump()) + \"\\n\\n\" + holistic_summary(review))\n",
        "    return path\n"
      ],
      "metadata": {
        "id": "jVUaNzzV4bYK"
      },
      "id": "jVUaNzzV4bYK",
      "execution_count": 22,
      "outputs": []
    },
    {
      "cell_type": "code",
      "source": [
        "# --- Demo: Minor, Moderate, Major ---\n",
        "examples = [\n",
        "    {\n",
        "        \"name\": \"Minor\",\n",
        "        \"data\": {\n",
        "            \"code_snippet\": \"def greet(name):\\n    print(f'Hello, {name}')\",\n",
        "            \"review_comments\": [\"Consider adding a docstring.\"]\n",
        "        }\n",
        "    },\n",
        "    {\n",
        "        \"name\": \"Moderate\",\n",
        "        \"data\": {\n",
        "            \"code_snippet\": \"def divide(a, b):\\n    return a / b\",\n",
        "            \"review_comments\": [\"No handling for division by zero.\"]\n",
        "        }\n",
        "    },\n",
        "    {\n",
        "        \"name\": \"Major\",\n",
        "        \"data\": example_severe  # from your SQL injection example\n",
        "    }\n",
        "]\n",
        "\n",
        "from IPython.display import Markdown, display\n",
        "\n",
        "for ex in examples:\n",
        "    print(f\"\\n### {ex['name']} Severity Example\\n\")\n",
        "    out = review_code(ex[\"data\"])\n",
        "    display(Markdown(to_markdown_block(out.model_dump())))\n",
        "    print(holistic_summary(out))\n",
        "    save_review_md(out, f\"review_{ex['name'].lower()}.md\")\n"
      ],
      "metadata": {
        "id": "Kf5ibgK65gC9",
        "colab": {
          "base_uri": "https://localhost:8080/",
          "height": 1000
        },
        "outputId": "c3e61af3-205c-46d8-fcf8-7f3ea6ade28a"
      },
      "id": "Kf5ibgK65gC9",
      "execution_count": 38,
      "outputs": [
        {
          "output_type": "stream",
          "name": "stdout",
          "text": [
            "\n",
            "### Minor Severity Example\n",
            "\n",
            "Technical critique: **Key issues**\n",
            "- No docstring – lacks documentation for users and tools (e.g., Sphinx, IDEs).  \n",
            "- No type hints – reduces static‑analysis usefulness and readability.  \n",
            "- Function prints directly – mak...\n"
          ]
        },
        {
          "output_type": "display_data",
          "data": {
            "text/plain": [
              "<IPython.core.display.Markdown object>"
            ],
            "text/markdown": "```json\n{\n  \"summary\": \"This is a small improvement for future code quality. Great start! Let's improve the function's maintainability and usability.\",\n  \"suggestions\": [\n    \"Add a docstring to provide documentation for users and tools.\",\n    \"Use type hints to enable static type checking and improve readability.\",\n    \"Return the greeting string instead of printing it directly.\",\n    \"Add input validation to prevent unexpected exceptions.\"\n  ],\n  \"positive_notes\": [\n    \"Good initial structure.\"\n  ],\n  \"severity\": \"minor\",\n  \"links\": [\n    \"https://docs.python.org/3/tutorial/docstrings.html\",\n    \"https://docs.python.org/3/tutorial/controlflow.html#type-hints\",\n    \"https://docs.python.org/3/tutorial/errors.html\",\n    \"https://owasp.org/www-project-top-ten/\"\n  ]\n}\n```"
          },
          "metadata": {}
        },
        {
          "output_type": "stream",
          "name": "stdout",
          "text": [
            "Overall, your code shows Good initial structure.. Addressing the above 4 points will greatly improve quality, maintainability, and overall security.\n",
            "\n",
            "### Moderate Severity Example\n",
            "\n",
            "Technical critique: **Key issues**\n",
            "- No check for division by zero → raises `ZeroDivisionError` at runtime.\n",
            "- No type validation → non‑numeric inputs cause `TypeError` or unexpected behavior.\n",
            "- No documentation of expect...\n"
          ]
        },
        {
          "output_type": "display_data",
          "data": {
            "text/plain": [
              "<IPython.core.display.Markdown object>"
            ],
            "text/markdown": "```json\n{\n  \"summary\": \"This is a small improvement for future code quality. Great start! Let's make this function more robust and maintainable.\",\n  \"suggestions\": [\n    \"Add type validation to ensure numeric inputs\",\n    \"Implement a check for division by zero and raise a ValueError\",\n    \"Document expected types and behavior with a docstring\"\n  ],\n  \"positive_notes\": [\n    \"Good initial structure\"\n  ],\n  \"severity\": \"minor\",\n  \"links\": [\n    \"https://docs.python.org/3/tutorial/errors.html#raising-exceptions\",\n    \"https://docs.python.org/3/tutorial/types.html#numeric-types\",\n    \"https://docs.python.org/3/tutorial/errors.html\",\n    \"https://owasp.org/www-project-top-ten/\"\n  ]\n}\n```"
          },
          "metadata": {}
        },
        {
          "output_type": "stream",
          "name": "stdout",
          "text": [
            "Overall, your code shows Good initial structure. Addressing the above 3 points will greatly improve quality, maintainability, and overall security.\n",
            "\n",
            "### Major Severity Example\n",
            "\n",
            "Technical critique: **Key issues**\n",
            "\n",
            "- **SQL injection vulnerability** – the query is built by string interpolation with user‑supplied values.  \n",
            "- **Plain‑text password handling** – passwords are stored and compared in cl...\n",
            "JSON parsing failed: Expecting value: line 1 column 1 (char 0)\n",
            "Raw output: Here is the rewritten technical critique in JSON format:\n",
            "\n",
            "{\n",
            "  \"summary\": \"Great effort! Let's address these critical security concerns to ensure our code is robust and secure.\",\n",
            "  \"suggestions\": [\n",
            "    \"Use parameterized queries to prevent SQL injection\",\n",
            "    \"Implement password hashing and salting\",\n",
            "    \"Remove hard-coded credentials and use environment variables instead\",\n",
            "    \"Encrypt the SQLite file and use access control\",\n",
            "    \"Close database connections and cursors properly\",\n",
            "    \"Use a secure password hashing algorithm like PBKDF2-HMAC-SHA256\"\n",
            "  ],\n",
            "  \"positive_notes\": [\n",
            "    \"Good start on using SQLite and connecting to the database\"\n",
            "  ],\n",
            "  \"severity\": \"major\",\n",
            "  \"links\": [\n",
            "    \"https://docs.python.org/3/library/sqlite3.html#sqlite3.connect\",\n",
            "    \"https://docs.python.org/3/library/hmac.html\",\n",
            "    \"https://www.owasp.org/index.php/Password_Storage_Cheat_Sheet\"\n",
            "  ]\n",
            "}\n"
          ]
        },
        {
          "output_type": "display_data",
          "data": {
            "text/plain": [
              "<IPython.core.display.Markdown object>"
            ],
            "text/markdown": "```json\n{\n  \"summary\": \"⚠️ This is a critical issue and must be addressed immediately. Let's improve this code together! Key issues\",\n  \"suggestions\": [\n    \"Minimal fix suggestions\"\n  ],\n  \"positive_notes\": [\n    \"Good foundational structure\",\n    \"Shows understanding of the basic concept\"\n  ],\n  \"severity\": \"major\",\n  \"links\": [\n    \"https://use-the-index-luke.com/\"\n  ]\n}\n```"
          },
          "metadata": {}
        },
        {
          "output_type": "stream",
          "name": "stdout",
          "text": [
            "Overall, your code shows Good foundational structure, Shows understanding of the basic concept. Addressing the above 1 points will greatly improve quality, maintainability, and overall security.\n"
          ]
        }
      ]
    }
  ],
  "metadata": {
    "colab": {
      "provenance": []
    },
    "language_info": {
      "name": "python"
    },
    "kernelspec": {
      "name": "python3",
      "display_name": "Python 3"
    }
  },
  "nbformat": 4,
  "nbformat_minor": 5
}
